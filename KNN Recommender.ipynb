{
 "cells": [
  {
   "cell_type": "code",
   "execution_count": 1,
   "metadata": {},
   "outputs": [
    {
     "name": "stderr",
     "output_type": "stream",
     "text": [
      "c:\\users\\aayush\\appdata\\local\\programs\\python\\python37-32\\lib\\site-packages\\fuzzywuzzy\\fuzz.py:11: UserWarning: Using slow pure-python SequenceMatcher. Install python-Levenshtein to remove this warning\n",
      "  warnings.warn('Using slow pure-python SequenceMatcher. Install python-Levenshtein to remove this warning')\n"
     ]
    }
   ],
   "source": [
    "import pandas as pd\n",
    "from scipy.sparse import csr_matrix\n",
    "from sklearn.neighbors import NearestNeighbors\n",
    "from fuzzywuzzy import fuzz"
   ]
  },
  {
   "cell_type": "code",
   "execution_count": 2,
   "metadata": {},
   "outputs": [],
   "source": [
    "# Function to ready data for recommendation\n",
    "def filter_data():\n",
    "    \n",
    "    # Read data\n",
    "    movies  = pd.read_csv(\"Data/movies.csv\",usecols=['movieId', 'title'],dtype={'movieId': 'int32', 'title': 'str'})\n",
    "    ratings = pd.read_csv(\"Data/ratings.csv\",usecols=['userId', 'movieId', 'rating'],dtype={'userId': 'int32', 'movieId': 'int32', 'rating': 'float32'})\n",
    "    \n",
    "    # The count of each movie\n",
    "    movies_count = pd.DataFrame(ratings.groupby('movieId').size(),columns=['count'])\n",
    "    \n",
    "    # Get popular movies that only have more than 50 ratings\n",
    "    popular = list(set(movies_count.query('count >= 50').index))  \n",
    "    movies_filtered = ratings.movieId.isin(popular).values\n",
    "    \n",
    "    # The count of each user\n",
    "    users_count = pd.DataFrame(ratings.groupby('userId').size(),columns=['count'])\n",
    "    \n",
    "    # Get popular users that have more than 50 ratings\n",
    "    active_users = list(set(users_count.query('count >= 50').index))  \n",
    "    users_filtered = ratings.userId.isin(active_users).values\n",
    "    \n",
    "    ratings_filtered = ratings[movies_filtered & users_filtered]\n",
    "\n",
    "    # Create movie-user matrix which will be needed for KNN, empty values are set to 0\n",
    "    movie_user_matrix = ratings_filtered.pivot(index='movieId', columns='userId', values='rating').fillna(0)\n",
    "    \n",
    "    \n",
    "    # Hashmap that points from movie title to index\n",
    "    hashmap = {\n",
    "        movie: i for i, movie in\n",
    "        enumerate(list(movies.set_index('movieId').loc[movie_user_matrix.index].title)) \n",
    "    }\n",
    "   \n",
    "    # Transform matrix to scipy sparse matrix\n",
    "    movie_user_matrix_sparse = csr_matrix(movie_user_matrix.values)\n",
    "\n",
    "    return movie_user_matrix_sparse, hashmap"
   ]
  },
  {
   "cell_type": "code",
   "execution_count": 3,
   "metadata": {},
   "outputs": [],
   "source": [
    "# Function that uses KNN and recommends 10 movies for the user based on a movie name they input\n",
    "def recommend(model, data, movie):\n",
    "    \n",
    "    # Fit data to the model\n",
    "    model.fit(data)\n",
    "    \n",
    "    \n",
    "    distance, index = model.kneighbors(data[movie],n_neighbors=11)\n",
    "    \n",
    "    # Fetch and combine recommendations \n",
    "    \n",
    "    recommendations = \\\n",
    "            sorted(\n",
    "                list(\n",
    "                    zip(\n",
    "                        index.squeeze().tolist(), # Remove single dimension entries -> movies with only 1 neighbor\n",
    "                        distance.squeeze().tolist()\n",
    "                    )\n",
    "                ),\n",
    "                key=lambda x: x[1]\n",
    "            )[:0:-1]\n",
    "    \n",
    "    return recommendations\n",
    "    \n"
   ]
  },
  {
   "cell_type": "code",
   "execution_count": 7,
   "metadata": {},
   "outputs": [],
   "source": [
    "# Function that finds the movie name in dictionary\n",
    "def find_movie(hashmap, name):\n",
    "    \n",
    "    # Uses fuzzywuzzy to get similarity in name and picks closest match\n",
    "    \n",
    "    movies = []\n",
    "    \n",
    "    for key, val in hashmap.items():\n",
    "        \n",
    "        ratio = fuzz.ratio(key.lower(), name.lower())\n",
    "        \n",
    "        if ratio >= 60:\n",
    "            \n",
    "            movies.append((key, val, ratio))\n",
    "            \n",
    "    # Sort --> return first movie in list\n",
    "    movies = sorted(movies, key=lambda x: x[2])[::-1]\n",
    "    \n",
    "    \n",
    "    if not movies:\n",
    "        \n",
    "        print(\"No such movie found\")\n",
    "    else:\n",
    "        return movies[0][1]\n",
    "        \n",
    "    \n",
    "    "
   ]
  },
  {
   "cell_type": "code",
   "execution_count": 8,
   "metadata": {},
   "outputs": [],
   "source": [
    "def main(name):\n",
    "    \n",
    "    data, hashmap = filter_data()\n",
    "    movie = find_movie(hashmap,name)\n",
    "    model = NearestNeighbors(n_neighbors=11, algorithm='brute',metric='cosine',n_jobs=-1)\n",
    "    recommendations = recommend(model,data,movie)\n",
    "    \n",
    "    # print results\n",
    "    reverse_hashmap = {v: k for k, v in hashmap.items()}\n",
    "    print('Recommendations for {}:'.format(name))\n",
    "    for i, (idx, dist) in enumerate(recommendations):\n",
    "        print('{0}: {1} '.format(i+1, reverse_hashmap[idx], dist))\n",
    "        \n"
   ]
  },
  {
   "cell_type": "code",
   "execution_count": 9,
   "metadata": {},
   "outputs": [
    {
     "name": "stdout",
     "output_type": "stream",
     "text": [
      "Recommendations for Batman:\n",
      "1: Die Hard: With a Vengeance (1995) \n",
      "2: Aladdin (1992) \n",
      "3: Braveheart (1995) \n",
      "4: Speed (1994) \n",
      "5: Mask, The (1994) \n",
      "6: Fugitive, The (1993) \n",
      "7: Jurassic Park (1993) \n",
      "8: Terminator 2: Judgment Day (1991) \n",
      "9: Batman Forever (1995) \n",
      "10: True Lies (1994) \n"
     ]
    }
   ],
   "source": [
    "main(\"Batman\")"
   ]
  },
  {
   "cell_type": "code",
   "execution_count": null,
   "metadata": {},
   "outputs": [],
   "source": []
  }
 ],
 "metadata": {
  "kernelspec": {
   "display_name": "Python 3",
   "language": "python",
   "name": "python3"
  },
  "language_info": {
   "codemirror_mode": {
    "name": "ipython",
    "version": 3
   },
   "file_extension": ".py",
   "mimetype": "text/x-python",
   "name": "python",
   "nbconvert_exporter": "python",
   "pygments_lexer": "ipython3",
   "version": "3.7.6"
  }
 },
 "nbformat": 4,
 "nbformat_minor": 4
}
